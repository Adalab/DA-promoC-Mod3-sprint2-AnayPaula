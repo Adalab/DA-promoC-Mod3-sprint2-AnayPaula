{
 "cells": [
  {
   "cell_type": "code",
   "execution_count": 29,
   "metadata": {},
   "outputs": [],
   "source": [
    "import pandas as pd"
   ]
  },
  {
   "cell_type": "code",
   "execution_count": 30,
   "metadata": {},
   "outputs": [
    {
     "data": {
      "text/html": [
       "<div>\n",
       "<style scoped>\n",
       "    .dataframe tbody tr th:only-of-type {\n",
       "        vertical-align: middle;\n",
       "    }\n",
       "\n",
       "    .dataframe tbody tr th {\n",
       "        vertical-align: top;\n",
       "    }\n",
       "\n",
       "    .dataframe thead th {\n",
       "        text-align: right;\n",
       "    }\n",
       "</style>\n",
       "<table border=\"1\" class=\"dataframe\">\n",
       "  <thead>\n",
       "    <tr style=\"text-align: right;\">\n",
       "      <th></th>\n",
       "      <th>Provincia de residencia de la madre</th>\n",
       "      <th>Edad de la madre</th>\n",
       "      <th>Grupo de edad del padre</th>\n",
       "      <th>Total</th>\n",
       "    </tr>\n",
       "  </thead>\n",
       "  <tbody>\n",
       "    <tr>\n",
       "      <th>0</th>\n",
       "      <td>Alava</td>\n",
       "      <td>Todas las edades</td>\n",
       "      <td>Todas las edades</td>\n",
       "      <td>2.810</td>\n",
       "    </tr>\n",
       "    <tr>\n",
       "      <th>1</th>\n",
       "      <td>Albacete</td>\n",
       "      <td>Todas las edades</td>\n",
       "      <td>Todas las edades</td>\n",
       "      <td>3.650</td>\n",
       "    </tr>\n",
       "    <tr>\n",
       "      <th>2</th>\n",
       "      <td>Alicante/Alacant</td>\n",
       "      <td>Todas las edades</td>\n",
       "      <td>Todas las edades</td>\n",
       "      <td>17.655</td>\n",
       "    </tr>\n",
       "    <tr>\n",
       "      <th>3</th>\n",
       "      <td>Almeria</td>\n",
       "      <td>Todas las edades</td>\n",
       "      <td>Todas las edades</td>\n",
       "      <td>7.505</td>\n",
       "    </tr>\n",
       "    <tr>\n",
       "      <th>4</th>\n",
       "      <td>Avila</td>\n",
       "      <td>Todas las edades</td>\n",
       "      <td>Todas las edades</td>\n",
       "      <td>1.210</td>\n",
       "    </tr>\n",
       "  </tbody>\n",
       "</table>\n",
       "</div>"
      ],
      "text/plain": [
       "  Provincia de residencia de la madre  Edad de la madre  \\\n",
       "0                               Alava  Todas las edades   \n",
       "1                            Albacete  Todas las edades   \n",
       "2                    Alicante/Alacant  Todas las edades   \n",
       "3                             Almeria  Todas las edades   \n",
       "4                               Avila  Todas las edades   \n",
       "\n",
       "  Grupo de edad del padre   Total  \n",
       "0        Todas las edades   2.810  \n",
       "1        Todas las edades   3.650  \n",
       "2        Todas las edades  17.655  \n",
       "3        Todas las edades   7.505  \n",
       "4        Todas las edades   1.210  "
      ]
     },
     "execution_count": 30,
     "metadata": {},
     "output_type": "execute_result"
    }
   ],
   "source": [
    "df = pd.read_csv(\"Datos/03001.csv\", sep = ';', encoding = 'latin-1')\n",
    "df.head()"
   ]
  },
  {
   "cell_type": "code",
   "execution_count": 35,
   "metadata": {},
   "outputs": [
    {
     "data": {
      "text/plain": [
       "array(['Alava', 'Albacete', 'Alicante/Alacant', 'Almeria', 'Avila',\n",
       "       'Badajoz', 'Balears (Illes)', 'Barcelona', 'Burgos', 'Caceres',\n",
       "       'Cadiz', 'Castellon', 'Ciudad Real', 'Cordoba', 'CoruÃ±a (A)',\n",
       "       'Cuenca', 'Girona', 'Granada', 'Guadalajara', 'Guipuzcoa',\n",
       "       'Huelva', 'Huesca', 'Jaen', 'Leon', 'Lleida', 'Rioja (La)', 'Lugo',\n",
       "       'Madrid', 'Malaga', 'Murcia', 'Navarra', 'Ourense', 'Asturias',\n",
       "       'Palencia', 'Palmas (Las)', 'Pontevedra', 'Salamanca',\n",
       "       'Santa Cruz de Tenerife', 'Cantabria', 'Segovia', 'Sevilla',\n",
       "       'Soria', 'Tarragona', 'Teruel', 'Toledo', 'Valencia/Valencia',\n",
       "       'Valladolid', 'Vizcaya', 'Zamora', 'Zaragoza', 'Ceuta', 'Melilla'],\n",
       "      dtype=object)"
      ]
     },
     "execution_count": 35,
     "metadata": {},
     "output_type": "execute_result"
    }
   ],
   "source": [
    "df['Provincia de residencia de la madre'].unique()"
   ]
  },
  {
   "cell_type": "code",
   "execution_count": 24,
   "metadata": {},
   "outputs": [
    {
     "name": "stdout",
     "output_type": "stream",
     "text": [
      "<class 'pandas.core.frame.DataFrame'>\n",
      "RangeIndex: 52 entries, 0 to 51\n",
      "Data columns (total 2 columns):\n",
      " #   Column                               Non-Null Count  Dtype   \n",
      "---  ------                               --------------  -----   \n",
      " 0   Provincia de residencia de la madre  52 non-null     object  \n",
      " 1   Total                                52 non-null     category\n",
      "dtypes: category(1), object(1)\n",
      "memory usage: 3.0+ KB\n"
     ]
    }
   ],
   "source": [
    "df.info()"
   ]
  },
  {
   "cell_type": "code",
   "execution_count": 33,
   "metadata": {},
   "outputs": [],
   "source": [
    "def quitar_puntos(col):\n",
    "    col = str(col)\n",
    "    col = col.replace('.', '')\n",
    "    return col"
   ]
  },
  {
   "cell_type": "code",
   "execution_count": null,
   "metadata": {},
   "outputs": [],
   "source": []
  },
  {
   "cell_type": "code",
   "execution_count": 3,
   "metadata": {},
   "outputs": [
    {
     "name": "stdout",
     "output_type": "stream",
     "text": [
      "<class 'pandas.core.frame.DataFrame'>\n",
      "RangeIndex: 52 entries, 0 to 51\n",
      "Data columns (total 4 columns):\n",
      " #   Column                               Non-Null Count  Dtype  \n",
      "---  ------                               --------------  -----  \n",
      " 0   Provincia de residencia de la madre  52 non-null     object \n",
      " 1   Edad de la madre                     52 non-null     object \n",
      " 2   Grupo de edad del padre              52 non-null     object \n",
      " 3   Total                                52 non-null     float64\n",
      "dtypes: float64(1), object(3)\n",
      "memory usage: 1.8+ KB\n"
     ]
    }
   ],
   "source": [
    "df.info()"
   ]
  },
  {
   "cell_type": "code",
   "execution_count": 4,
   "metadata": {},
   "outputs": [],
   "source": [
    "df.drop(['Edad de la madre', 'Grupo de edad del padre'], axis = 1, inplace = True)"
   ]
  },
  {
   "cell_type": "code",
   "execution_count": 5,
   "metadata": {},
   "outputs": [
    {
     "data": {
      "text/html": [
       "<div>\n",
       "<style scoped>\n",
       "    .dataframe tbody tr th:only-of-type {\n",
       "        vertical-align: middle;\n",
       "    }\n",
       "\n",
       "    .dataframe tbody tr th {\n",
       "        vertical-align: top;\n",
       "    }\n",
       "\n",
       "    .dataframe thead th {\n",
       "        text-align: right;\n",
       "    }\n",
       "</style>\n",
       "<table border=\"1\" class=\"dataframe\">\n",
       "  <thead>\n",
       "    <tr style=\"text-align: right;\">\n",
       "      <th></th>\n",
       "      <th>Provincia de residencia de la madre</th>\n",
       "      <th>Total</th>\n",
       "    </tr>\n",
       "  </thead>\n",
       "  <tbody>\n",
       "    <tr>\n",
       "      <th>0</th>\n",
       "      <td>Alava</td>\n",
       "      <td>2.810</td>\n",
       "    </tr>\n",
       "    <tr>\n",
       "      <th>1</th>\n",
       "      <td>Albacete</td>\n",
       "      <td>3.650</td>\n",
       "    </tr>\n",
       "    <tr>\n",
       "      <th>2</th>\n",
       "      <td>Alicante/Alacant</td>\n",
       "      <td>17.655</td>\n",
       "    </tr>\n",
       "    <tr>\n",
       "      <th>3</th>\n",
       "      <td>Almeria</td>\n",
       "      <td>7.505</td>\n",
       "    </tr>\n",
       "    <tr>\n",
       "      <th>4</th>\n",
       "      <td>Avila</td>\n",
       "      <td>1.210</td>\n",
       "    </tr>\n",
       "  </tbody>\n",
       "</table>\n",
       "</div>"
      ],
      "text/plain": [
       "  Provincia de residencia de la madre   Total\n",
       "0                               Alava   2.810\n",
       "1                            Albacete   3.650\n",
       "2                    Alicante/Alacant  17.655\n",
       "3                             Almeria   7.505\n",
       "4                               Avila   1.210"
      ]
     },
     "execution_count": 5,
     "metadata": {},
     "output_type": "execute_result"
    }
   ],
   "source": [
    "df.head()"
   ]
  },
  {
   "cell_type": "code",
   "execution_count": 28,
   "metadata": {},
   "outputs": [],
   "source": [
    "df.to_csv('Datos/nacimientos_2004.csv')"
   ]
  }
 ],
 "metadata": {
  "kernelspec": {
   "display_name": "base",
   "language": "python",
   "name": "python3"
  },
  "language_info": {
   "codemirror_mode": {
    "name": "ipython",
    "version": 3
   },
   "file_extension": ".py",
   "mimetype": "text/x-python",
   "name": "python",
   "nbconvert_exporter": "python",
   "pygments_lexer": "ipython3",
   "version": "3.9.13"
  },
  "orig_nbformat": 4,
  "vscode": {
   "interpreter": {
    "hash": "85c042135e83639dad74b6ec6c9d943b5dc47ca281624d931a3e14168052f53c"
   }
  }
 },
 "nbformat": 4,
 "nbformat_minor": 2
}
